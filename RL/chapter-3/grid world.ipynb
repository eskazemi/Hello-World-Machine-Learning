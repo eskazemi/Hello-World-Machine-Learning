{
 "cells": [
  {
   "cell_type": "code",
   "execution_count": 5,
   "id": "49d64586",
   "metadata": {},
   "outputs": [
    {
     "name": "stdout",
     "output_type": "stream",
     "text": [
      "[[{'U': [0, 0], 'D': [1, 0], 'L': [0, 0], 'R': [0, 1]}, {'U': [4, 1], 'D': [4, 1], 'L': [4, 1], 'R': [4, 1]}, {'U': [0, 2], 'D': [1, 2], 'L': [0, 1], 'R': [0, 3]}, {'U': [2, 3], 'D': [2, 3], 'L': [2, 3], 'R': [2, 3]}, {'U': [0, 4], 'D': [1, 4], 'L': [0, 3], 'R': [0, 4]}], [{'U': [0, 0], 'D': [2, 0], 'L': [1, 0], 'R': [1, 1]}, {'U': [0, 1], 'D': [2, 1], 'L': [1, 0], 'R': [1, 2]}, {'U': [0, 2], 'D': [2, 2], 'L': [1, 1], 'R': [1, 3]}, {'U': [0, 3], 'D': [2, 3], 'L': [1, 2], 'R': [1, 4]}, {'U': [0, 4], 'D': [2, 4], 'L': [1, 3], 'R': [1, 4]}], [{'U': [1, 0], 'D': [3, 0], 'L': [2, 0], 'R': [2, 1]}, {'U': [1, 1], 'D': [3, 1], 'L': [2, 0], 'R': [2, 2]}, {'U': [1, 2], 'D': [3, 2], 'L': [2, 1], 'R': [2, 3]}, {'U': [1, 3], 'D': [3, 3], 'L': [2, 2], 'R': [2, 4]}, {'U': [1, 4], 'D': [3, 4], 'L': [2, 3], 'R': [2, 4]}], [{'U': [2, 0], 'D': [4, 0], 'L': [3, 0], 'R': [3, 1]}, {'U': [2, 1], 'D': [4, 1], 'L': [3, 0], 'R': [3, 2]}, {'U': [2, 2], 'D': [4, 2], 'L': [3, 1], 'R': [3, 3]}, {'U': [2, 3], 'D': [4, 3], 'L': [3, 2], 'R': [3, 4]}, {'U': [2, 4], 'D': [4, 4], 'L': [3, 3], 'R': [3, 4]}], [{'U': [3, 0], 'D': [4, 0], 'L': [4, 0], 'R': [4, 1]}, {'U': [3, 1], 'D': [4, 1], 'L': [4, 0], 'R': [4, 2]}, {'U': [3, 2], 'D': [4, 2], 'L': [4, 1], 'R': [4, 3]}, {'U': [3, 3], 'D': [4, 3], 'L': [4, 2], 'R': [4, 4]}, {'U': [3, 4], 'D': [4, 4], 'L': [4, 3], 'R': [4, 4]}]]\n",
      "Random Policy\n"
     ]
    },
    {
     "data": {
      "image/png": "[encoded data removed]",
      "text/plain": [
       "<Figure size 432x288 with 1 Axes>"
      ]
     },
     "metadata": {
      "needs_background": "light"
     },
     "output_type": "display_data"
    },
    {
     "name": "stdout",
     "output_type": "stream",
     "text": [
      "Optimal Policy\n"
     ]
    },
    {
     "data": {
      "image/png": "[encoded data removed]",
      "text/plain": [
       "<Figure size 432x288 with 1 Axes>"
      ]
     },
     "metadata": {
      "needs_background": "light"
     },
     "output_type": "display_data"
    }
   ],
   "source": [
    "from __future__ import print_function\n",
    "import numpy as np\n",
    "import matplotlib.pyplot as plt\n",
    "from matplotlib.table import Table\n",
    "\n",
    "WORLD_SIZE = 5\n",
    "A_POS = [0, 1]\n",
    "A_PRIME_POS = [4, 1]\n",
    "B_POS = [0, 3]\n",
    "B_PRIME_POS = [2, 3]\n",
    "discount = 0.9\n",
    "\n",
    "world = np.zeros((WORLD_SIZE, WORLD_SIZE))\n",
    "# ایجاد جدول\n",
    "\n",
    "# left, up, right, down\n",
    "actions = ['L', 'U', 'R', 'D']\n",
    "\n",
    "actionProb = []\n",
    "for i in range(0, WORLD_SIZE):\n",
    "    actionProb.append([])\n",
    "    for j in range(0, WORLD_SIZE):\n",
    "        actionProb[i].append(dict({'L':0.25, 'U':0.25, 'R':0.25, 'D':0.25}))\n",
    "\n",
    "# print(actionProb)\n",
    "nextState = []\n",
    "actionReward = []\n",
    "for i in range(0, WORLD_SIZE):\n",
    "    nextState.append([])\n",
    "    actionReward.append([])\n",
    "    for j in range(0, WORLD_SIZE):\n",
    "        next = dict()\n",
    "        reward = dict()\n",
    "        if i == 0:\n",
    "            next['U'] = [i, j]\n",
    "            reward['U'] = -1.0\n",
    "        else:\n",
    "            next['U'] = [i - 1, j]\n",
    "            reward['U'] = 0.0\n",
    "\n",
    "        if i == WORLD_SIZE - 1:\n",
    "            next['D'] = [i, j]\n",
    "            reward['D'] = -1.0\n",
    "        else:\n",
    "            next['D'] = [i + 1, j]\n",
    "            reward['D'] = 0.0\n",
    "\n",
    "        if j == 0:\n",
    "            next['L'] = [i, j]\n",
    "            reward['L'] = -1.0\n",
    "        else:\n",
    "            next['L'] = [i, j - 1]\n",
    "            reward['L'] = 0.0\n",
    "\n",
    "        if j == WORLD_SIZE - 1:\n",
    "            next['R'] = [i, j]\n",
    "            reward['R'] = -1.0\n",
    "        else:\n",
    "            next['R'] = [i, j + 1]\n",
    "            reward['R'] = 0.0\n",
    "\n",
    "        if [i, j] == A_POS:\n",
    "            next['L'] = next['R'] = next['D'] = next['U'] = A_PRIME_POS\n",
    "            reward['L'] = reward['R'] = reward['D'] = reward['U'] = 10.0\n",
    "\n",
    "        if [i, j] == B_POS:\n",
    "            next['L'] = next['R'] = next['D'] = next['U'] = B_PRIME_POS\n",
    "            reward['L'] = reward['R'] = reward['D'] = reward['U'] = 5.0\n",
    "\n",
    "        nextState[i].append(next)\n",
    "        actionReward[i].append(reward)\n",
    "\n",
    "print(nextState)\n",
    "\n",
    "def draw_image(image):\n",
    "    fig, ax = plt.subplots()\n",
    "    ax.set_axis_off()\n",
    "    tb = Table(ax, bbox=[0,0,1,1])\n",
    "\n",
    "    nrows, ncols = image.shape\n",
    "    width, height = 1.0 / ncols, 1.0 / nrows\n",
    "\n",
    "    # Add cells\n",
    "    for (i,j), val in np.ndenumerate(image):\n",
    "        # Index either the first or second item of bkg_colors based on\n",
    "        # a checker board pattern\n",
    "        idx = [j % 2, (j + 1) % 2][i % 2]\n",
    "        color = 'white'\n",
    "\n",
    "        tb.add_cell(i, j, width, height, text=val, \n",
    "                    loc='center', facecolor=color)\n",
    "\n",
    "    # Row Labels...\n",
    "    for i, label in enumerate(range(len(image))):\n",
    "        tb.add_cell(i, -1, width, height, text=label+1, loc='right', \n",
    "                    edgecolor='none', facecolor='none')\n",
    "    # Column Labels...\n",
    "    for j, label in enumerate(range(len(image))):\n",
    "        tb.add_cell(-1, j, width, height/2, text=label+1, loc='center', \n",
    "                           edgecolor='none', facecolor='none')\n",
    "    ax.add_table(tb)\n",
    "    plt.show()\n",
    "\n",
    "    \n",
    "# for figure 3.5\n",
    "while True:\n",
    "    # keep iteration until convergence\n",
    "    newWorld = np.zeros((WORLD_SIZE, WORLD_SIZE))\n",
    "    for i in range(0, WORLD_SIZE):\n",
    "        for j in range(0, WORLD_SIZE):\n",
    "            for action in actions:\n",
    "                newPosition = nextState[i][j][action]\n",
    "                # bellman equation\n",
    "                newWorld[i, j] += actionProb[i][j][action] * (actionReward[i][j][action] + discount * world[newPosition[0], newPosition[1]])\n",
    "    if np.max(np.abs(world - newWorld)) < 1e-4: # اگر قدر مطلق  اختلاف درایه به درایه ماتریس کمتر از \n",
    "        print('Random Policy')\n",
    "        draw_image(np.round(newWorld, decimals=2))\n",
    "        break\n",
    "    world = newWorld\n",
    "\n",
    "# for figure 3.8\n",
    "world = np.zeros((WORLD_SIZE, WORLD_SIZE))\n",
    "while True:\n",
    "    # keep iteration until convergence\n",
    "    newWorld = np.zeros((WORLD_SIZE, WORLD_SIZE))\n",
    "    for i in range(0, WORLD_SIZE):\n",
    "        for j in range(0, WORLD_SIZE):\n",
    "            values = []\n",
    "            for action in actions:\n",
    "                newPosition = nextState[i][j][action]\n",
    "                # value iteration\n",
    "                values.append(actionReward[i][j][action] + discount * world[newPosition[0], newPosition[1]])\n",
    "            newWorld[i][j] = np.max(values)\n",
    "    if np.sum(np.abs(world - newWorld)) < 1e-4:\n",
    "        print('Optimal Policy')\n",
    "        draw_image(np.round(newWorld, decimals=2))\n",
    "        break\n",
    "    world = newWorld\n"
   ]
  },
  {
   "cell_type": "code",
   "execution_count": null,
   "id": "78238314",
   "metadata": {},
   "outputs": [],
   "source": []
  }
 ],
 "metadata": {
  "kernelspec": {
   "display_name": "Python 3 (ipykernel)",
   "language": "python",
   "name": "python3"
  },
  "language_info": {
   "codemirror_mode": {
    "name": "ipython",
    "version": 3
   },
   "file_extension": ".py",
   "mimetype": "text/x-python",
   "name": "python",
   "nbconvert_exporter": "python",
   "pygments_lexer": "ipython3",
   "version": "3.10.4"
  }
 },
 "nbformat": 4,
 "nbformat_minor": 5
}

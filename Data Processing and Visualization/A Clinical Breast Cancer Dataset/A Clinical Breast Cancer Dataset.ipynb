{
 "cells": [
  {
   "cell_type": "markdown",
   "id": "0aa71329-6eaf-44ad-b079-328ec98810d5",
   "metadata": {},
   "source": [
    "### import library"
   ]
  },
  {
   "cell_type": "code",
   "execution_count": 2,
   "id": "46c4c7cb-9fae-4841-9073-2f12e3d96315",
   "metadata": {},
   "outputs": [],
   "source": [
    "import pandas as pd\n",
    "import numpy as np\n",
    "import matplotlib.pyplot as plt\n",
    "import seaborn as sns\n",
    "%matplotlib inline"
   ]
  },
  {
   "cell_type": "markdown",
   "id": "701c94b6-3d4c-4d2d-bd3c-e8c3e42fdfca",
   "metadata": {},
   "source": [
    "### read dataset"
   ]
  },
  {
   "cell_type": "code",
   "execution_count": 3,
   "id": "0b278972-fd20-4e67-8b77-d386a56ae0ca",
   "metadata": {},
   "outputs": [
    {
     "data": {
      "text/html": [
       "<div>\n",
       "<style scoped>\n",
       "    .dataframe tbody tr th:only-of-type {\n",
       "        vertical-align: middle;\n",
       "    }\n",
       "\n",
       "    .dataframe tbody tr th {\n",
       "        vertical-align: top;\n",
       "    }\n",
       "\n",
       "    .dataframe thead th {\n",
       "        text-align: right;\n",
       "    }\n",
       "</style>\n",
       "<table border=\"1\" class=\"dataframe\">\n",
       "  <thead>\n",
       "    <tr style=\"text-align: right;\">\n",
       "      <th></th>\n",
       "      <th>Complete TCGA ID</th>\n",
       "      <th>Gender</th>\n",
       "      <th>Age at Initial Pathologic Diagnosis</th>\n",
       "      <th>ER Status</th>\n",
       "      <th>PR Status</th>\n",
       "      <th>HER2 Final Status</th>\n",
       "      <th>Tumor</th>\n",
       "      <th>Tumor--T1 Coded</th>\n",
       "      <th>Node</th>\n",
       "      <th>Node-Coded</th>\n",
       "      <th>...</th>\n",
       "      <th>PAM50 mRNA</th>\n",
       "      <th>SigClust Unsupervised mRNA</th>\n",
       "      <th>SigClust Intrinsic mRNA</th>\n",
       "      <th>miRNA Clusters</th>\n",
       "      <th>methylation Clusters</th>\n",
       "      <th>RPPA Clusters</th>\n",
       "      <th>CN Clusters</th>\n",
       "      <th>Integrated Clusters (with PAM50)</th>\n",
       "      <th>Integrated Clusters (no exp)</th>\n",
       "      <th>Integrated Clusters (unsup exp)</th>\n",
       "    </tr>\n",
       "  </thead>\n",
       "  <tbody>\n",
       "    <tr>\n",
       "      <th>0</th>\n",
       "      <td>TCGA-A2-A0T2</td>\n",
       "      <td>FEMALE</td>\n",
       "      <td>66</td>\n",
       "      <td>Negative</td>\n",
       "      <td>Negative</td>\n",
       "      <td>Negative</td>\n",
       "      <td>T3</td>\n",
       "      <td>T_Other</td>\n",
       "      <td>N3</td>\n",
       "      <td>Positive</td>\n",
       "      <td>...</td>\n",
       "      <td>Basal-like</td>\n",
       "      <td>0</td>\n",
       "      <td>-13</td>\n",
       "      <td>3</td>\n",
       "      <td>5</td>\n",
       "      <td>Basal</td>\n",
       "      <td>3</td>\n",
       "      <td>2</td>\n",
       "      <td>2</td>\n",
       "      <td>2</td>\n",
       "    </tr>\n",
       "    <tr>\n",
       "      <th>1</th>\n",
       "      <td>TCGA-A2-A0CM</td>\n",
       "      <td>FEMALE</td>\n",
       "      <td>40</td>\n",
       "      <td>Negative</td>\n",
       "      <td>Negative</td>\n",
       "      <td>Negative</td>\n",
       "      <td>T2</td>\n",
       "      <td>T_Other</td>\n",
       "      <td>N0</td>\n",
       "      <td>Negative</td>\n",
       "      <td>...</td>\n",
       "      <td>Basal-like</td>\n",
       "      <td>-12</td>\n",
       "      <td>-13</td>\n",
       "      <td>4</td>\n",
       "      <td>4</td>\n",
       "      <td>Basal</td>\n",
       "      <td>4</td>\n",
       "      <td>2</td>\n",
       "      <td>1</td>\n",
       "      <td>1</td>\n",
       "    </tr>\n",
       "    <tr>\n",
       "      <th>2</th>\n",
       "      <td>TCGA-BH-A18V</td>\n",
       "      <td>FEMALE</td>\n",
       "      <td>48</td>\n",
       "      <td>Negative</td>\n",
       "      <td>Negative</td>\n",
       "      <td>Negative</td>\n",
       "      <td>T2</td>\n",
       "      <td>T_Other</td>\n",
       "      <td>N1</td>\n",
       "      <td>Positive</td>\n",
       "      <td>...</td>\n",
       "      <td>Basal-like</td>\n",
       "      <td>-12</td>\n",
       "      <td>-13</td>\n",
       "      <td>5</td>\n",
       "      <td>5</td>\n",
       "      <td>Basal</td>\n",
       "      <td>1</td>\n",
       "      <td>2</td>\n",
       "      <td>2</td>\n",
       "      <td>2</td>\n",
       "    </tr>\n",
       "    <tr>\n",
       "      <th>3</th>\n",
       "      <td>TCGA-BH-A18Q</td>\n",
       "      <td>FEMALE</td>\n",
       "      <td>56</td>\n",
       "      <td>Negative</td>\n",
       "      <td>Negative</td>\n",
       "      <td>Negative</td>\n",
       "      <td>T2</td>\n",
       "      <td>T_Other</td>\n",
       "      <td>N1</td>\n",
       "      <td>Positive</td>\n",
       "      <td>...</td>\n",
       "      <td>Basal-like</td>\n",
       "      <td>-12</td>\n",
       "      <td>-13</td>\n",
       "      <td>5</td>\n",
       "      <td>5</td>\n",
       "      <td>Basal</td>\n",
       "      <td>1</td>\n",
       "      <td>2</td>\n",
       "      <td>2</td>\n",
       "      <td>2</td>\n",
       "    </tr>\n",
       "    <tr>\n",
       "      <th>4</th>\n",
       "      <td>TCGA-BH-A0E0</td>\n",
       "      <td>FEMALE</td>\n",
       "      <td>38</td>\n",
       "      <td>Negative</td>\n",
       "      <td>Negative</td>\n",
       "      <td>Negative</td>\n",
       "      <td>T3</td>\n",
       "      <td>T_Other</td>\n",
       "      <td>N3</td>\n",
       "      <td>Positive</td>\n",
       "      <td>...</td>\n",
       "      <td>Basal-like</td>\n",
       "      <td>0</td>\n",
       "      <td>-13</td>\n",
       "      <td>5</td>\n",
       "      <td>5</td>\n",
       "      <td>Basal</td>\n",
       "      <td>1</td>\n",
       "      <td>2</td>\n",
       "      <td>2</td>\n",
       "      <td>2</td>\n",
       "    </tr>\n",
       "    <tr>\n",
       "      <th>5</th>\n",
       "      <td>TCGA-A7-A0CE</td>\n",
       "      <td>FEMALE</td>\n",
       "      <td>57</td>\n",
       "      <td>Negative</td>\n",
       "      <td>Negative</td>\n",
       "      <td>Negative</td>\n",
       "      <td>T2</td>\n",
       "      <td>T_Other</td>\n",
       "      <td>N0</td>\n",
       "      <td>Negative</td>\n",
       "      <td>...</td>\n",
       "      <td>Basal-like</td>\n",
       "      <td>0</td>\n",
       "      <td>-13</td>\n",
       "      <td>5</td>\n",
       "      <td>5</td>\n",
       "      <td>Basal</td>\n",
       "      <td>1</td>\n",
       "      <td>2</td>\n",
       "      <td>2</td>\n",
       "      <td>2</td>\n",
       "    </tr>\n",
       "    <tr>\n",
       "      <th>6</th>\n",
       "      <td>TCGA-D8-A142</td>\n",
       "      <td>FEMALE</td>\n",
       "      <td>74</td>\n",
       "      <td>Negative</td>\n",
       "      <td>Negative</td>\n",
       "      <td>Negative</td>\n",
       "      <td>T3</td>\n",
       "      <td>T_Other</td>\n",
       "      <td>N0</td>\n",
       "      <td>Negative</td>\n",
       "      <td>...</td>\n",
       "      <td>Basal-like</td>\n",
       "      <td>0</td>\n",
       "      <td>-13</td>\n",
       "      <td>3</td>\n",
       "      <td>5</td>\n",
       "      <td>X</td>\n",
       "      <td>1</td>\n",
       "      <td>2</td>\n",
       "      <td>2</td>\n",
       "      <td>2</td>\n",
       "    </tr>\n",
       "    <tr>\n",
       "      <th>7</th>\n",
       "      <td>TCGA-A2-A0D0</td>\n",
       "      <td>FEMALE</td>\n",
       "      <td>60</td>\n",
       "      <td>Negative</td>\n",
       "      <td>Negative</td>\n",
       "      <td>Negative</td>\n",
       "      <td>T2</td>\n",
       "      <td>T_Other</td>\n",
       "      <td>N0</td>\n",
       "      <td>Negative</td>\n",
       "      <td>...</td>\n",
       "      <td>Basal-like</td>\n",
       "      <td>-12</td>\n",
       "      <td>-13</td>\n",
       "      <td>5</td>\n",
       "      <td>5</td>\n",
       "      <td>Basal</td>\n",
       "      <td>1</td>\n",
       "      <td>2</td>\n",
       "      <td>2</td>\n",
       "      <td>2</td>\n",
       "    </tr>\n",
       "    <tr>\n",
       "      <th>8</th>\n",
       "      <td>TCGA-AO-A0J6</td>\n",
       "      <td>FEMALE</td>\n",
       "      <td>61</td>\n",
       "      <td>Negative</td>\n",
       "      <td>Negative</td>\n",
       "      <td>Negative</td>\n",
       "      <td>T2</td>\n",
       "      <td>T_Other</td>\n",
       "      <td>N0</td>\n",
       "      <td>Negative</td>\n",
       "      <td>...</td>\n",
       "      <td>Basal-like</td>\n",
       "      <td>-12</td>\n",
       "      <td>-13</td>\n",
       "      <td>2</td>\n",
       "      <td>5</td>\n",
       "      <td>Basal</td>\n",
       "      <td>1</td>\n",
       "      <td>2</td>\n",
       "      <td>2</td>\n",
       "      <td>2</td>\n",
       "    </tr>\n",
       "    <tr>\n",
       "      <th>9</th>\n",
       "      <td>TCGA-A2-A0YM</td>\n",
       "      <td>FEMALE</td>\n",
       "      <td>67</td>\n",
       "      <td>Negative</td>\n",
       "      <td>Negative</td>\n",
       "      <td>Negative</td>\n",
       "      <td>T2</td>\n",
       "      <td>T_Other</td>\n",
       "      <td>N0</td>\n",
       "      <td>Negative</td>\n",
       "      <td>...</td>\n",
       "      <td>Basal-like</td>\n",
       "      <td>-12</td>\n",
       "      <td>-13</td>\n",
       "      <td>5</td>\n",
       "      <td>5</td>\n",
       "      <td>Basal</td>\n",
       "      <td>3</td>\n",
       "      <td>2</td>\n",
       "      <td>2</td>\n",
       "      <td>2</td>\n",
       "    </tr>\n",
       "  </tbody>\n",
       "</table>\n",
       "<p>10 rows × 30 columns</p>\n",
       "</div>"
      ],
      "text/plain": [
       "  Complete TCGA ID  Gender  Age at Initial Pathologic Diagnosis ER Status   \n",
       "0     TCGA-A2-A0T2  FEMALE                                   66  Negative  \\\n",
       "1     TCGA-A2-A0CM  FEMALE                                   40  Negative   \n",
       "2     TCGA-BH-A18V  FEMALE                                   48  Negative   \n",
       "3     TCGA-BH-A18Q  FEMALE                                   56  Negative   \n",
       "4     TCGA-BH-A0E0  FEMALE                                   38  Negative   \n",
       "5     TCGA-A7-A0CE  FEMALE                                   57  Negative   \n",
       "6     TCGA-D8-A142  FEMALE                                   74  Negative   \n",
       "7     TCGA-A2-A0D0  FEMALE                                   60  Negative   \n",
       "8     TCGA-AO-A0J6  FEMALE                                   61  Negative   \n",
       "9     TCGA-A2-A0YM  FEMALE                                   67  Negative   \n",
       "\n",
       "  PR Status HER2 Final Status Tumor Tumor--T1 Coded Node Node-Coded  ...   \n",
       "0  Negative          Negative    T3         T_Other   N3   Positive  ...  \\\n",
       "1  Negative          Negative    T2         T_Other   N0   Negative  ...   \n",
       "2  Negative          Negative    T2         T_Other   N1   Positive  ...   \n",
       "3  Negative          Negative    T2         T_Other   N1   Positive  ...   \n",
       "4  Negative          Negative    T3         T_Other   N3   Positive  ...   \n",
       "5  Negative          Negative    T2         T_Other   N0   Negative  ...   \n",
       "6  Negative          Negative    T3         T_Other   N0   Negative  ...   \n",
       "7  Negative          Negative    T2         T_Other   N0   Negative  ...   \n",
       "8  Negative          Negative    T2         T_Other   N0   Negative  ...   \n",
       "9  Negative          Negative    T2         T_Other   N0   Negative  ...   \n",
       "\n",
       "   PAM50 mRNA SigClust Unsupervised mRNA SigClust Intrinsic mRNA   \n",
       "0  Basal-like                          0                     -13  \\\n",
       "1  Basal-like                        -12                     -13   \n",
       "2  Basal-like                        -12                     -13   \n",
       "3  Basal-like                        -12                     -13   \n",
       "4  Basal-like                          0                     -13   \n",
       "5  Basal-like                          0                     -13   \n",
       "6  Basal-like                          0                     -13   \n",
       "7  Basal-like                        -12                     -13   \n",
       "8  Basal-like                        -12                     -13   \n",
       "9  Basal-like                        -12                     -13   \n",
       "\n",
       "  miRNA Clusters methylation Clusters RPPA Clusters  CN Clusters   \n",
       "0              3                    5         Basal            3  \\\n",
       "1              4                    4         Basal            4   \n",
       "2              5                    5         Basal            1   \n",
       "3              5                    5         Basal            1   \n",
       "4              5                    5         Basal            1   \n",
       "5              5                    5         Basal            1   \n",
       "6              3                    5             X            1   \n",
       "7              5                    5         Basal            1   \n",
       "8              2                    5         Basal            1   \n",
       "9              5                    5         Basal            3   \n",
       "\n",
       "   Integrated Clusters (with PAM50)  Integrated Clusters (no exp)   \n",
       "0                                 2                             2  \\\n",
       "1                                 2                             1   \n",
       "2                                 2                             2   \n",
       "3                                 2                             2   \n",
       "4                                 2                             2   \n",
       "5                                 2                             2   \n",
       "6                                 2                             2   \n",
       "7                                 2                             2   \n",
       "8                                 2                             2   \n",
       "9                                 2                             2   \n",
       "\n",
       "   Integrated Clusters (unsup exp)  \n",
       "0                                2  \n",
       "1                                1  \n",
       "2                                2  \n",
       "3                                2  \n",
       "4                                2  \n",
       "5                                2  \n",
       "6                                2  \n",
       "7                                2  \n",
       "8                                2  \n",
       "9                                2  \n",
       "\n",
       "[10 rows x 30 columns]"
      ]
     },
     "execution_count": 3,
     "metadata": {},
     "output_type": "execute_result"
    }
   ],
   "source": [
    "df=pd.read_csv(\"./A Clinical Breast Cancer.csv\")\n",
    "df.head(10)"
   ]
  },
  {
   "cell_type": "markdown",
   "id": "0f779369-702d-42d5-bbf0-ecac1cc60e27",
   "metadata": {},
   "source": [
    "### description dataset"
   ]
  },
  {
   "cell_type": "code",
   "execution_count": 28,
   "id": "2e2b01cd-ac2e-4b7d-9813-df74756dda01",
   "metadata": {},
   "outputs": [
    {
     "name": "stdout",
     "output_type": "stream",
     "text": [
      "<class 'pandas.core.frame.DataFrame'>\n",
      "RangeIndex: 105 entries, 0 to 104\n",
      "Data columns (total 30 columns):\n",
      " #   Column                               Non-Null Count  Dtype  \n",
      "---  ------                               --------------  -----  \n",
      " 0   Complete TCGA ID                     105 non-null    object \n",
      " 1   Gender                               105 non-null    object \n",
      " 2   Age at Initial Pathologic Diagnosis  105 non-null    int64  \n",
      " 3   ER Status                            105 non-null    object \n",
      " 4   PR Status                            105 non-null    object \n",
      " 5   HER2 Final Status                    105 non-null    object \n",
      " 6   Tumor                                105 non-null    object \n",
      " 7   Tumor--T1 Coded                      105 non-null    object \n",
      " 8   Node                                 105 non-null    object \n",
      " 9   Node-Coded                           105 non-null    object \n",
      " 10  Metastasis                           105 non-null    object \n",
      " 11  Metastasis-Coded                     105 non-null    object \n",
      " 12  AJCC Stage                           105 non-null    object \n",
      " 13  Converted Stage                      105 non-null    object \n",
      " 14  Survival Data Form                   105 non-null    object \n",
      " 15  Vital Status                         105 non-null    object \n",
      " 16  Days to Date of Last Contact         105 non-null    int64  \n",
      " 17  Days to date of Death                11 non-null     float64\n",
      " 18  OS event                             105 non-null    int64  \n",
      " 19  OS Time                              105 non-null    int64  \n",
      " 20  PAM50 mRNA                           105 non-null    object \n",
      " 21  SigClust Unsupervised mRNA           105 non-null    int64  \n",
      " 22  SigClust Intrinsic mRNA              105 non-null    int64  \n",
      " 23  miRNA Clusters                       105 non-null    int64  \n",
      " 24  methylation Clusters                 105 non-null    int64  \n",
      " 25  RPPA Clusters                        105 non-null    object \n",
      " 26  CN Clusters                          105 non-null    int64  \n",
      " 27  Integrated Clusters (with PAM50)     105 non-null    int64  \n",
      " 28  Integrated Clusters (no exp)         105 non-null    int64  \n",
      " 29  Integrated Clusters (unsup exp)      105 non-null    int64  \n",
      "dtypes: float64(1), int64(12), object(17)\n",
      "memory usage: 24.7+ KB\n"
     ]
    }
   ],
   "source": [
    "df.info()"
   ]
  },
  {
   "cell_type": "code",
   "execution_count": 29,
   "id": "8dc99107-97ef-4edd-8c7b-f20760b89a1a",
   "metadata": {},
   "outputs": [
    {
     "data": {
      "text/plain": [
       "Complete TCGA ID                        0\n",
       "Gender                                  0\n",
       "Age at Initial Pathologic Diagnosis     0\n",
       "ER Status                               0\n",
       "PR Status                               0\n",
       "HER2 Final Status                       0\n",
       "Tumor                                   0\n",
       "Tumor--T1 Coded                         0\n",
       "Node                                    0\n",
       "Node-Coded                              0\n",
       "Metastasis                              0\n",
       "Metastasis-Coded                        0\n",
       "AJCC Stage                              0\n",
       "Converted Stage                         0\n",
       "Survival Data Form                      0\n",
       "Vital Status                            0\n",
       "Days to Date of Last Contact            0\n",
       "Days to date of Death                  94\n",
       "OS event                                0\n",
       "OS Time                                 0\n",
       "PAM50 mRNA                              0\n",
       "SigClust Unsupervised mRNA              0\n",
       "SigClust Intrinsic mRNA                 0\n",
       "miRNA Clusters                          0\n",
       "methylation Clusters                    0\n",
       "RPPA Clusters                           0\n",
       "CN Clusters                             0\n",
       "Integrated Clusters (with PAM50)        0\n",
       "Integrated Clusters (no exp)            0\n",
       "Integrated Clusters (unsup exp)         0\n",
       "dtype: int64"
      ]
     },
     "execution_count": 29,
     "metadata": {},
     "output_type": "execute_result"
    }
   ],
   "source": [
    "df.isnull().sum()"
   ]
  },
  {
   "cell_type": "markdown",
   "id": "079a3ddc-4a34-491d-ab0c-a1457cdb3e48",
   "metadata": {},
   "source": [
    "### EXPLORATORY DATA ANALYSIS"
   ]
  },
  {
   "cell_type": "markdown",
   "id": "0f6a0c96-e8d1-4b59-94ac-3f6b1a756301",
   "metadata": {},
   "source": [
    "### statistic"
   ]
  },
  {
   "cell_type": "code",
   "execution_count": 30,
   "id": "f1e7be8c-a7ad-47ab-803c-07bf9c9a0203",
   "metadata": {},
   "outputs": [
    {
     "data": {
      "text/html": [
       "<div>\n",
       "<style scoped>\n",
       "    .dataframe tbody tr th:only-of-type {\n",
       "        vertical-align: middle;\n",
       "    }\n",
       "\n",
       "    .dataframe tbody tr th {\n",
       "        vertical-align: top;\n",
       "    }\n",
       "\n",
       "    .dataframe thead th {\n",
       "        text-align: right;\n",
       "    }\n",
       "</style>\n",
       "<table border=\"1\" class=\"dataframe\">\n",
       "  <thead>\n",
       "    <tr style=\"text-align: right;\">\n",
       "      <th></th>\n",
       "      <th>count</th>\n",
       "      <th>mean</th>\n",
       "      <th>std</th>\n",
       "      <th>min</th>\n",
       "      <th>25%</th>\n",
       "      <th>50%</th>\n",
       "      <th>75%</th>\n",
       "      <th>max</th>\n",
       "    </tr>\n",
       "  </thead>\n",
       "  <tbody>\n",
       "    <tr>\n",
       "      <th>Age at Initial Pathologic Diagnosis</th>\n",
       "      <td>105.0</td>\n",
       "      <td>58.685714</td>\n",
       "      <td>13.066630</td>\n",
       "      <td>30.0</td>\n",
       "      <td>49.0</td>\n",
       "      <td>58.0</td>\n",
       "      <td>67.0</td>\n",
       "      <td>88.0</td>\n",
       "    </tr>\n",
       "    <tr>\n",
       "      <th>Days to Date of Last Contact</th>\n",
       "      <td>105.0</td>\n",
       "      <td>788.390476</td>\n",
       "      <td>645.283040</td>\n",
       "      <td>0.0</td>\n",
       "      <td>240.0</td>\n",
       "      <td>643.0</td>\n",
       "      <td>1288.0</td>\n",
       "      <td>2850.0</td>\n",
       "    </tr>\n",
       "    <tr>\n",
       "      <th>Days to date of Death</th>\n",
       "      <td>11.0</td>\n",
       "      <td>1254.454545</td>\n",
       "      <td>678.050642</td>\n",
       "      <td>160.0</td>\n",
       "      <td>947.5</td>\n",
       "      <td>1364.0</td>\n",
       "      <td>1627.5</td>\n",
       "      <td>2483.0</td>\n",
       "    </tr>\n",
       "    <tr>\n",
       "      <th>OS event</th>\n",
       "      <td>105.0</td>\n",
       "      <td>0.104762</td>\n",
       "      <td>0.307715</td>\n",
       "      <td>0.0</td>\n",
       "      <td>0.0</td>\n",
       "      <td>0.0</td>\n",
       "      <td>0.0</td>\n",
       "      <td>1.0</td>\n",
       "    </tr>\n",
       "    <tr>\n",
       "      <th>OS Time</th>\n",
       "      <td>105.0</td>\n",
       "      <td>817.647619</td>\n",
       "      <td>672.026613</td>\n",
       "      <td>0.0</td>\n",
       "      <td>240.0</td>\n",
       "      <td>665.0</td>\n",
       "      <td>1305.0</td>\n",
       "      <td>2850.0</td>\n",
       "    </tr>\n",
       "    <tr>\n",
       "      <th>SigClust Unsupervised mRNA</th>\n",
       "      <td>105.0</td>\n",
       "      <td>-4.885714</td>\n",
       "      <td>3.558074</td>\n",
       "      <td>-12.0</td>\n",
       "      <td>-6.0</td>\n",
       "      <td>-5.0</td>\n",
       "      <td>-3.0</td>\n",
       "      <td>0.0</td>\n",
       "    </tr>\n",
       "    <tr>\n",
       "      <th>SigClust Intrinsic mRNA</th>\n",
       "      <td>105.0</td>\n",
       "      <td>-7.180952</td>\n",
       "      <td>5.022605</td>\n",
       "      <td>-13.0</td>\n",
       "      <td>-12.0</td>\n",
       "      <td>-6.0</td>\n",
       "      <td>-2.0</td>\n",
       "      <td>0.0</td>\n",
       "    </tr>\n",
       "    <tr>\n",
       "      <th>miRNA Clusters</th>\n",
       "      <td>105.0</td>\n",
       "      <td>4.000000</td>\n",
       "      <td>1.593255</td>\n",
       "      <td>1.0</td>\n",
       "      <td>3.0</td>\n",
       "      <td>4.0</td>\n",
       "      <td>5.0</td>\n",
       "      <td>7.0</td>\n",
       "    </tr>\n",
       "    <tr>\n",
       "      <th>methylation Clusters</th>\n",
       "      <td>105.0</td>\n",
       "      <td>3.342857</td>\n",
       "      <td>1.406226</td>\n",
       "      <td>1.0</td>\n",
       "      <td>2.0</td>\n",
       "      <td>4.0</td>\n",
       "      <td>4.0</td>\n",
       "      <td>5.0</td>\n",
       "    </tr>\n",
       "    <tr>\n",
       "      <th>CN Clusters</th>\n",
       "      <td>105.0</td>\n",
       "      <td>2.590476</td>\n",
       "      <td>1.342323</td>\n",
       "      <td>1.0</td>\n",
       "      <td>1.0</td>\n",
       "      <td>3.0</td>\n",
       "      <td>3.0</td>\n",
       "      <td>5.0</td>\n",
       "    </tr>\n",
       "    <tr>\n",
       "      <th>Integrated Clusters (with PAM50)</th>\n",
       "      <td>105.0</td>\n",
       "      <td>2.742857</td>\n",
       "      <td>1.074428</td>\n",
       "      <td>1.0</td>\n",
       "      <td>2.0</td>\n",
       "      <td>3.0</td>\n",
       "      <td>4.0</td>\n",
       "      <td>4.0</td>\n",
       "    </tr>\n",
       "    <tr>\n",
       "      <th>Integrated Clusters (no exp)</th>\n",
       "      <td>105.0</td>\n",
       "      <td>1.980952</td>\n",
       "      <td>0.970537</td>\n",
       "      <td>1.0</td>\n",
       "      <td>1.0</td>\n",
       "      <td>2.0</td>\n",
       "      <td>3.0</td>\n",
       "      <td>4.0</td>\n",
       "    </tr>\n",
       "    <tr>\n",
       "      <th>Integrated Clusters (unsup exp)</th>\n",
       "      <td>105.0</td>\n",
       "      <td>2.352381</td>\n",
       "      <td>1.091761</td>\n",
       "      <td>1.0</td>\n",
       "      <td>1.0</td>\n",
       "      <td>2.0</td>\n",
       "      <td>3.0</td>\n",
       "      <td>5.0</td>\n",
       "    </tr>\n",
       "  </tbody>\n",
       "</table>\n",
       "</div>"
      ],
      "text/plain": [
       "                                     count         mean         std    min   \n",
       "Age at Initial Pathologic Diagnosis  105.0    58.685714   13.066630   30.0  \\\n",
       "Days to Date of Last Contact         105.0   788.390476  645.283040    0.0   \n",
       "Days to date of Death                 11.0  1254.454545  678.050642  160.0   \n",
       "OS event                             105.0     0.104762    0.307715    0.0   \n",
       "OS Time                              105.0   817.647619  672.026613    0.0   \n",
       "SigClust Unsupervised mRNA           105.0    -4.885714    3.558074  -12.0   \n",
       "SigClust Intrinsic mRNA              105.0    -7.180952    5.022605  -13.0   \n",
       "miRNA Clusters                       105.0     4.000000    1.593255    1.0   \n",
       "methylation Clusters                 105.0     3.342857    1.406226    1.0   \n",
       "CN Clusters                          105.0     2.590476    1.342323    1.0   \n",
       "Integrated Clusters (with PAM50)     105.0     2.742857    1.074428    1.0   \n",
       "Integrated Clusters (no exp)         105.0     1.980952    0.970537    1.0   \n",
       "Integrated Clusters (unsup exp)      105.0     2.352381    1.091761    1.0   \n",
       "\n",
       "                                       25%     50%     75%     max  \n",
       "Age at Initial Pathologic Diagnosis   49.0    58.0    67.0    88.0  \n",
       "Days to Date of Last Contact         240.0   643.0  1288.0  2850.0  \n",
       "Days to date of Death                947.5  1364.0  1627.5  2483.0  \n",
       "OS event                               0.0     0.0     0.0     1.0  \n",
       "OS Time                              240.0   665.0  1305.0  2850.0  \n",
       "SigClust Unsupervised mRNA            -6.0    -5.0    -3.0     0.0  \n",
       "SigClust Intrinsic mRNA              -12.0    -6.0    -2.0     0.0  \n",
       "miRNA Clusters                         3.0     4.0     5.0     7.0  \n",
       "methylation Clusters                   2.0     4.0     4.0     5.0  \n",
       "CN Clusters                            1.0     3.0     3.0     5.0  \n",
       "Integrated Clusters (with PAM50)       2.0     3.0     4.0     4.0  \n",
       "Integrated Clusters (no exp)           1.0     2.0     3.0     4.0  \n",
       "Integrated Clusters (unsup exp)        1.0     2.0     3.0     5.0  "
      ]
     },
     "execution_count": 30,
     "metadata": {},
     "output_type": "execute_result"
    }
   ],
   "source": [
    "df.describe().T"
   ]
  },
  {
   "cell_type": "markdown",
   "id": "e0ca6735-d5ae-4f0a-a557-e361ea04ef50",
   "metadata": {},
   "source": [
    "## mean"
   ]
  },
  {
   "cell_type": "code",
   "execution_count": 31,
   "id": "5d3738d2-4666-455f-a970-dbff3a7dded2",
   "metadata": {},
   "outputs": [
    {
     "name": "stdout",
     "output_type": "stream",
     "text": [
      "Age at Initial Pathologic Diagnosis      58.685714\n",
      "Days to Date of Last Contact            788.390476\n",
      "Days to date of Death                  1254.454545\n",
      "OS event                                  0.104762\n",
      "OS Time                                 817.647619\n",
      "SigClust Unsupervised mRNA               -4.885714\n",
      "SigClust Intrinsic mRNA                  -7.180952\n",
      "miRNA Clusters                            4.000000\n",
      "methylation Clusters                      3.342857\n",
      "CN Clusters                               2.590476\n",
      "Integrated Clusters (with PAM50)          2.742857\n",
      "Integrated Clusters (no exp)              1.980952\n",
      "Integrated Clusters (unsup exp)           2.352381\n",
      "dtype: float64\n"
     ]
    }
   ],
   "source": [
    "print(df.mean(numeric_only = True))"
   ]
  },
  {
   "cell_type": "markdown",
   "id": "85008ea2",
   "metadata": {},
   "source": [
    "### Median"
   ]
  },
  {
   "cell_type": "code",
   "execution_count": 32,
   "id": "32eb61a3-1a74-4c7c-85e9-b83ffb0ee86a",
   "metadata": {},
   "outputs": [
    {
     "name": "stdout",
     "output_type": "stream",
     "text": [
      "Age at Initial Pathologic Diagnosis      58.0\n",
      "Days to Date of Last Contact            643.0\n",
      "Days to date of Death                  1364.0\n",
      "OS event                                  0.0\n",
      "OS Time                                 665.0\n",
      "SigClust Unsupervised mRNA               -5.0\n",
      "SigClust Intrinsic mRNA                  -6.0\n",
      "miRNA Clusters                            4.0\n",
      "methylation Clusters                      4.0\n",
      "CN Clusters                               3.0\n",
      "Integrated Clusters (with PAM50)          3.0\n",
      "Integrated Clusters (no exp)              2.0\n",
      "Integrated Clusters (unsup exp)           2.0\n",
      "dtype: float64\n"
     ]
    }
   ],
   "source": [
    "print(df.median(numeric_only = True))"
   ]
  },
  {
   "cell_type": "markdown",
   "id": "28a3d77e-d688-4c16-9c6f-57600d90d2e2",
   "metadata": {},
   "source": [
    "### mode , mean , median for Age at Initial Pathologic Diagnosis field"
   ]
  },
  {
   "cell_type": "code",
   "execution_count": 33,
   "id": "6629be8d-573e-4d61-852b-a7074ffabcf3",
   "metadata": {},
   "outputs": [
    {
     "name": "stdout",
     "output_type": "stream",
     "text": [
      "Mode: [48 52 54 66]\n",
      "Mean: 58.68571428571428\n",
      "Median: 58.0\n"
     ]
    }
   ],
   "source": [
    "mode = df['Age at Initial Pathologic Diagnosis'].mode().values\n",
    "mean = df['Age at Initial Pathologic Diagnosis'].mean()\n",
    "median = df['Age at Initial Pathologic Diagnosis'].median()\n",
    "\n",
    "# Print results\n",
    "print(f\"Mode: {mode}\")\n",
    "print(f\"Mean: {mean}\")\n",
    "print(f\"Median: {median}\")"
   ]
  },
  {
   "cell_type": "markdown",
   "id": "0ed3288b-561b-4e16-a92d-5a672970584b",
   "metadata": {},
   "source": [
    "### mode for Tomor"
   ]
  },
  {
   "cell_type": "code",
   "execution_count": 34,
   "id": "30c02361-bebb-4f3c-86d7-7dcb6897434a",
   "metadata": {},
   "outputs": [
    {
     "name": "stdout",
     "output_type": "stream",
     "text": [
      "Mode: ['T2']\n"
     ]
    }
   ],
   "source": [
    "mode = df['Tumor'].mode().values\n",
    "# Print results\n",
    "print(f\"Mode: {mode}\")"
   ]
  },
  {
   "cell_type": "markdown",
   "id": "82c8fb30-8bac-4c0d-b1ac-9753ea8fb2fa",
   "metadata": {},
   "source": [
    "### Mode for Node"
   ]
  },
  {
   "cell_type": "code",
   "execution_count": 4,
   "id": "0296eafc-afc3-4ec3-b19e-ee6afdb751c2",
   "metadata": {},
   "outputs": [
    {
     "name": "stdout",
     "output_type": "stream",
     "text": [
      "Mode: ['N0']\n"
     ]
    }
   ],
   "source": [
    "mode = df['Node'].mode().values\n",
    "# Print results\n",
    "print(f\"Mode: {mode}\")"
   ]
  },
  {
   "cell_type": "markdown",
   "id": "8189cf68-bf5e-4b47-98fd-169ac9947114",
   "metadata": {},
   "source": [
    "### Mode for AJCC Stage"
   ]
  },
  {
   "cell_type": "code",
   "execution_count": 5,
   "id": "8ce5b44b-0e48-4936-8f4c-0c374e2371ee",
   "metadata": {},
   "outputs": [
    {
     "name": "stdout",
     "output_type": "stream",
     "text": [
      "Mode: ['Stage IIA']\n"
     ]
    }
   ],
   "source": [
    "mode = df['AJCC Stage'].mode().values\n",
    "# Print results\n",
    "print(f\"Mode: {mode}\")"
   ]
  },
  {
   "cell_type": "markdown",
   "id": "c70b41bd",
   "metadata": {},
   "source": [
    "### Create a boxplot for field Age at Initial Pathologic Diagnosis"
   ]
  },
  {
   "cell_type": "code",
   "execution_count": 37,
   "id": "6141f9a7-2494-40a1-a51c-127127e59751",
   "metadata": {},
   "outputs": [
    {
     "data": {
      "image/png": "[encoded data removed]",
      "text/plain": [
       "<Figure size 640x480 with 1 Axes>"
      ]
     },
     "metadata": {},
     "output_type": "display_data"
    }
   ],
   "source": [
    "# Create a boxplot for field Age at Initial Pathologic Diagnosis\n",
    "sns.boxplot(x='Age at Initial Pathologic Diagnosis', data=df, color='skyblue', width=0.3, linewidth=1.5, fliersize=3)\n",
    "\n",
    "# Add labels and title\n",
    "plt.xlabel('Age at Initial Pathologic Diagnosis', fontsize=12)\n",
    "plt.ylabel('Values', fontsize=12)\n",
    "plt.title('Boxplot for Age at Initial Pathologic Diagnosis', fontsize=14)\n",
    "\n",
    "# Customize the plot\n",
    "sns.despine(offset=10, trim=True)\n",
    "plt.xticks(fontsize=10)\n",
    "plt.yticks(fontsize=10)\n",
    "\n",
    "# Show the plot\n",
    "plt.show()"
   ]
  },
  {
   "cell_type": "markdown",
   "id": "b63e1913",
   "metadata": {},
   "source": [
    "### Create a boxplot for multiple fields"
   ]
  },
  {
   "cell_type": "code",
   "execution_count": 38,
   "id": "6ac2fcf2-4870-450f-bd9d-c7084bb029ab",
   "metadata": {},
   "outputs": [
    {
     "data": {
      "image/png": "[encoded data removed]",
      "text/plain": [
       "<Figure size 640x480 with 1 Axes>"
      ]
     },
     "metadata": {},
     "output_type": "display_data"
    }
   ],
   "source": [
    "sns.boxplot(data=df.select_dtypes(include=['float64', 'int64']))\n",
    "\n",
    "# Add labels and title\n",
    "plt.xlabel('Fields', fontsize=12)\n",
    "plt.ylabel('Values', fontsize=12)\n",
    "plt.title('Boxplot for Multiple Fields', fontsize=14)\n",
    "\n",
    "# Customize the plot\n",
    "sns.despine(offset=10, trim=True)\n",
    "plt.xticks(rotation=45, ha='right', fontsize=10)\n",
    "plt.yticks(fontsize=10)\n",
    "\n",
    "# Show the plot\n",
    "plt.show()"
   ]
  },
  {
   "cell_type": "markdown",
   "id": "56a8ae05",
   "metadata": {},
   "source": [
    "### boxplot for Age  with Tomor"
   ]
  },
  {
   "cell_type": "code",
   "execution_count": 39,
   "id": "2a7f8589",
   "metadata": {},
   "outputs": [
    {
     "data": {
      "text/plain": [
       "<Axes: xlabel='Age at Initial Pathologic Diagnosis', ylabel='Tumor'>"
      ]
     },
     "execution_count": 39,
     "metadata": {},
     "output_type": "execute_result"
    },
    {
     "data": {
      "image/png": "[encoded data removed]",
      "text/plain": [
       "<Figure size 640x480 with 1 Axes>"
      ]
     },
     "metadata": {},
     "output_type": "display_data"
    }
   ],
   "source": [
    "sns.boxplot(x=\"Age at Initial Pathologic Diagnosis\", y=\"Tumor\", data=df)"
   ]
  },
  {
   "cell_type": "markdown",
   "id": "2ce0aa99",
   "metadata": {},
   "source": [
    "### boxplot for Age  with Age stage"
   ]
  },
  {
   "cell_type": "code",
   "execution_count": 40,
   "id": "bd46cccb",
   "metadata": {},
   "outputs": [
    {
     "data": {
      "text/plain": [
       "<Axes: xlabel='Age at Initial Pathologic Diagnosis', ylabel='AJCC Stage'>"
      ]
     },
     "execution_count": 40,
     "metadata": {},
     "output_type": "execute_result"
    },
    {
     "data": {
      "image/png": "[encoded data removed]",
      "text/plain": [
       "<Figure size 640x480 with 1 Axes>"
      ]
     },
     "metadata": {},
     "output_type": "display_data"
    }
   ],
   "source": [
    "sns.boxplot(x=\"Age at Initial Pathologic Diagnosis\", y=\"AJCC Stage\", data=df)"
   ]
  }
 ],
 "metadata": {
  "kernelspec": {
   "display_name": "Python 3 (ipykernel)",
   "language": "python",
   "name": "python3"
  },
  "language_info": {
   "codemirror_mode": {
    "name": "ipython",
    "version": 3
   },
   "file_extension": ".py",
   "mimetype": "text/x-python",
   "name": "python",
   "nbconvert_exporter": "python",
   "pygments_lexer": "ipython3",
   "version": "3.10.6"
  }
 },
 "nbformat": 4,
 "nbformat_minor": 5
}
